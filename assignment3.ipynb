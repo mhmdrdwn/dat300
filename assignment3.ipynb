{
 "cells": [
  {
   "cell_type": "markdown",
   "metadata": {},
   "source": [
    "Group Name: Team Flash \n",
    "\n",
    "Students:\n",
    "- Mohamed Radwan\n",
    "- Mithunan Sivegnanam"
   ]
  },
  {
   "cell_type": "code",
   "execution_count": 115,
   "metadata": {
    "_cell_guid": "b1076dfc-b9ad-4769-8c92-a6c4dae69d19",
    "_uuid": "8f2839f25d086af736a60e9eeb907d3b93b6e0e5"
   },
   "outputs": [
    {
     "name": "stdout",
     "output_type": "stream",
     "text": [
      "/kaggle/input/dat300-h2020-ca3/y_train_250.csv\n",
      "/kaggle/input/dat300-h2020-ca3/sample_solution.csv\n",
      "/kaggle/input/dat300-h2020-ca3/X_train_250.csv\n",
      "/kaggle/input/dat300-h2020-ca3/X_test_100.csv\n"
     ]
    }
   ],
   "source": [
    "import numpy as np \n",
    "import pandas as pd \n",
    "\n",
    "import os\n",
    "for dirname, _, filenames in os.walk('/kaggle/input'):\n",
    "    for filename in filenames:\n",
    "        print(os.path.join(dirname, filename))"
   ]
  },
  {
   "cell_type": "markdown",
   "metadata": {},
   "source": [
    "## Reading Data"
   ]
  },
  {
   "cell_type": "code",
   "execution_count": 116,
   "metadata": {
    "_cell_guid": "79c7e3d0-c299-4dcb-8224-4455121ee9b0",
    "_uuid": "d629ff2d2480ee46fbb7e2d37f6b5fab8052498a"
   },
   "outputs": [
    {
     "name": "stdout",
     "output_type": "stream",
     "text": [
      "Time spent here 0.0053784847259521484\n"
     ]
    }
   ],
   "source": [
    "def read_data():\n",
    "    train_X = pd.read_csv('/kaggle/input/dat300-h2020-ca3/X_train_250.csv', chunksize=250000, iterator=True)\n",
    "    train_y = pd.read_csv('/kaggle/input/dat300-h2020-ca3/y_train_250.csv', chunksize=250000, iterator=True)\n",
    "    test_X = pd.read_csv('/kaggle/input/dat300-h2020-ca3/X_test_100.csv', chunksize=250000, iterator=True)\n",
    "    \n",
    "    return train_X, train_y, test_X\n",
    "    \n",
    "import time\n",
    "start = time.time()\n",
    "train_X, train_y, test_X = read_data()\n",
    "stop = time.time()\n",
    "print('Time spent here', stop-start)"
   ]
  },
  {
   "cell_type": "markdown",
   "metadata": {},
   "source": [
    "## Scaling"
   ]
  },
  {
   "cell_type": "code",
   "execution_count": 117,
   "metadata": {},
   "outputs": [
    {
     "name": "stdout",
     "output_type": "stream",
     "text": [
      "Time spent here 95.22585892677307\n"
     ]
    }
   ],
   "source": [
    "from sklearn.preprocessing import StandardScaler\n",
    "from scipy import stats\n",
    "sc = StandardScaler()\n",
    "\n",
    "start = time.time()\n",
    "\n",
    "for batch in train_X:\n",
    "    sc.partial_fit(batch)\n",
    "\n",
    "stop = time.time()\n",
    "print('Time spent here', stop-start)"
   ]
  },
  {
   "cell_type": "markdown",
   "metadata": {},
   "source": [
    "## Classes Balance"
   ]
  },
  {
   "cell_type": "code",
   "execution_count": 118,
   "metadata": {},
   "outputs": [],
   "source": [
    "labels_percent = []\n",
    "idx = 1\n",
    "for chunk in train_y:\n",
    "    labels_percent.append((idx, chunk.target.value_counts(normalize=True)[0], chunk.target.value_counts(normalize=True)[1]))\n",
    "    idx += 1"
   ]
  },
  {
   "cell_type": "code",
   "execution_count": 119,
   "metadata": {},
   "outputs": [
    {
     "data": {
      "text/plain": [
       "[(1, 0.994052, 0.005948),\n",
       " (2, 0.989276, 0.010724),\n",
       " (3, 0.989588, 0.010412),\n",
       " (4, 0.986436, 0.013564),\n",
       " (5, 0.985032, 0.014968)]"
      ]
     },
     "execution_count": 119,
     "metadata": {},
     "output_type": "execute_result"
    }
   ],
   "source": [
    "labels_percent[:5]"
   ]
  },
  {
   "cell_type": "code",
   "execution_count": 120,
   "metadata": {},
   "outputs": [
    {
     "data": {
      "text/plain": [
       "<Figure size 1440x720 with 0 Axes>"
      ]
     },
     "metadata": {},
     "output_type": "display_data"
    },
    {
     "data": {
      "image/png": "[encoded data removed]",
      "text/plain": [
       "<Figure size 1440x720 with 1 Axes>"
      ]
     },
     "metadata": {
      "needs_background": "light"
     },
     "output_type": "display_data"
    }
   ],
   "source": [
    "import matplotlib.pyplot as plt\n",
    "plt.figure(figsize=(20,10))\n",
    "pd.DataFrame(labels_percent, columns=['batch','class 0', 'class 1']).set_index('batch').plot(kind='bar', figsize=(20,10));"
   ]
  },
  {
   "cell_type": "markdown",
   "metadata": {},
   "source": [
    "The alove numbers show that the labels are extremly imbalanced in each chunk "
   ]
  },
  {
   "cell_type": "markdown",
   "metadata": {},
   "source": [
    "## Training"
   ]
  },
  {
   "cell_type": "code",
   "execution_count": 133,
   "metadata": {},
   "outputs": [
    {
     "name": "stdout",
     "output_type": "stream",
     "text": [
      "2.3.1\n"
     ]
    }
   ],
   "source": [
    "import tensorflow as tf\n",
    "from tensorflow.keras import layers, optimizers, models\n",
    "from tensorflow.keras.layers import Input, Dense, Activation, Dropout, BatchNormalization\n",
    "from sklearn.metrics import fbeta_score\n",
    "from keras import backend as K\n",
    "\n",
    "print(tf.__version__)\n",
    "\n",
    "def build_model():\n",
    "    np.random.seed(42)\n",
    "    tf.compat.v1.set_random_seed(42)\n",
    "    model = models.Sequential([\n",
    "                             Dense(64, activation=tf.nn.relu),\n",
    "                             BatchNormalization(),\n",
    "                             Dense(64, activation=tf.nn.relu),\n",
    "                             BatchNormalization(),\n",
    "                             Dense(64, activation=tf.nn.relu),\n",
    "                             BatchNormalization(),\n",
    "                             Dense(64, activation=tf.nn.relu),\n",
    "                             BatchNormalization(),\n",
    "                             Dense(64, activation=tf.nn.relu),\n",
    "                             BatchNormalization(),\n",
    "                             Dense(1, activation=tf.nn.sigmoid)])\n",
    "    model.compile(loss='binary_crossentropy', optimizer=tf.keras.optimizers.Adam(learning_rate=0.0023))\n",
    "    return model"
   ]
  },
  {
   "cell_type": "markdown",
   "metadata": {},
   "source": [
    "#### This is the old oversampling and undersampling way of handling imbalance using imbalance-learn library, but we didn't use it, we used the class weights instead\n",
    "    \n",
    "    #!pip install imbalanced-learn\n",
    "    #oversample = RandomOverSampler(sampling_strategy=0.5)\n",
    "    #X, y = oversample.fit_resample(chunk_X, chunk_y)\n",
    "    #undersample = RandomUnderSampler()\n",
    "    #X, y = undersample.fit_resample(X, y)\n",
    "    \n",
    "- Undersampling and oversampling tends to give results that are baised towards the classes. Combination would be a relatively better choice.\n",
    "\n",
    "- However, we used the class weights instead to weight the loss function differently. we assign between (80 : 100) to the classes 1. So for the loss function, each wrong predictions of class 1 will be as 80 or 100 times as wrong prediction of class 0. Looking at batch 1, Intuitively, the number of class 0 samples are 248513. The number of class 1 multiplied by 100 will give 148700 will will make it more balanced than it was before.  Plus, choice of 100:1 as a class weights will give a realistic results. Otherwise, we will end up with unrealitic 0.99 accuracies that only gives 0.8 accuracies at kaggle.\n",
    "- We used the **train on batch** method from keras where the weights are updated incrementaly with each batch. for more details https://keras.io/api/models/model_training_apis/#trainonbatch-method\n"
   ]
  },
  {
   "cell_type": "markdown",
   "metadata": {},
   "source": [
    "## Build validation data"
   ]
  },
  {
   "cell_type": "code",
   "execution_count": 122,
   "metadata": {},
   "outputs": [
    {
     "name": "stdout",
     "output_type": "stream",
     "text": [
      "Time spent here 166.88058638572693\n"
     ]
    }
   ],
   "source": [
    "from sklearn.model_selection import train_test_split\n",
    "from sklearn.metrics import f1_score\n",
    "\n",
    "#record time\n",
    "start = time.time()\n",
    "\n",
    "#initilize the valdiation data\n",
    "X_val = None\n",
    "y_val = None\n",
    "\n",
    "#the data csv reader\n",
    "train_X, train_y, test_X = read_data()\n",
    "\n",
    "#this loop is mainly used to build the validation data\n",
    "for chunk_X, chunk_y in zip(train_X, train_y):\n",
    "    #train test split\n",
    "    X = chunk_X\n",
    "    y = chunk_y\n",
    "    X_train, X_val_, y_train, y_val_ = train_test_split(X, y, test_size=0.02, random_state=42, stratify=y)   \n",
    "    \n",
    "    #build validation data, append each chunk validation to the validation lists above\n",
    "    if X_val is None:\n",
    "        X_val = X_val_.to_numpy()\n",
    "    else:\n",
    "        X_val = np.vstack((X_val, X_val_.to_numpy()))\n",
    "    if y_val is None:\n",
    "        y_val = y_val_.to_numpy().reshape(y_val_.shape[0], 1)\n",
    "    else:\n",
    "        y_val = np.vstack((y_val, y_val_.to_numpy().reshape(y_val_.shape[0], 1)))\n",
    "\n",
    "stop = time.time()\n",
    "print('Time spent here', stop-start)"
   ]
  },
  {
   "cell_type": "markdown",
   "metadata": {},
   "source": [
    "## How many batches are enough?"
   ]
  },
  {
   "cell_type": "code",
   "execution_count": 123,
   "metadata": {},
   "outputs": [
    {
     "name": "stdout",
     "output_type": "stream",
     "text": [
      "Time spent here 784.9586980342865\n"
     ]
    }
   ],
   "source": [
    "#read the csv data\n",
    "train_X, train_y, test_X = read_data()\n",
    "\n",
    "#initilize the scores list\n",
    "scores = []\n",
    "\n",
    "#the model we will use for training\n",
    "model = build_model()\n",
    "\n",
    "\"\"\"\n",
    "this loop is used only for training and monitoring the validation scores\n",
    "this is to make sure we won't train on valiation data, since we train \n",
    "only on chunk that doesn't include validation data that we created earlier.\n",
    "That's why we used the same seed here in train test split\n",
    "\"\"\"\n",
    "for chunk_X, chunk_y in zip(train_X, train_y):\n",
    "    #train test split\n",
    "    X = chunk_X\n",
    "    y = chunk_y\n",
    "    X_train, X_val_, y_train, y_val_ = train_test_split(X, y, test_size=0.02, random_state=42, stratify=y)   \n",
    "    \n",
    "    #training\n",
    "    model.train_on_batch(sc.transform(X_train), y_train, class_weight={0: 1.,1: 100.})\n",
    "    y_val_pred = model.predict(sc.transform(X_val))\n",
    "    scores.append(f1_score(np.round(y_val_pred), y_val))\n",
    "\n",
    "stop = time.time()\n",
    "print('Time spent here', stop-start)"
   ]
  },
  {
   "cell_type": "code",
   "execution_count": 130,
   "metadata": {},
   "outputs": [
    {
     "data": {
      "image/png": "[encoded data removed]",
      "text/plain": [
       "<Figure size 1440x720 with 1 Axes>"
      ]
     },
     "metadata": {
      "needs_background": "light"
     },
     "output_type": "display_data"
    }
   ],
   "source": [
    "import matplotlib.pyplot as plt\n",
    "plt.figure(figsize=(20,10))\n",
    "plt.xlabel('Number of Batches')\n",
    "plt.ylabel('f1score')\n",
    "plt.plot(scores)\n",
    "plt.show()"
   ]
  },
  {
   "cell_type": "markdown",
   "metadata": {},
   "source": [
    "Looking at the validation accuracies, 30 batches would be enough for a low-compulationaly suboptimal results, 46 batches would gives best results"
   ]
  },
  {
   "cell_type": "markdown",
   "metadata": {},
   "source": [
    "## Build the final model"
   ]
  },
  {
   "cell_type": "code",
   "execution_count": 135,
   "metadata": {},
   "outputs": [
    {
     "name": "stdout",
     "output_type": "stream",
     "text": [
      "F1 after epoch  1 : 0.8746153846153847\n",
      "F1 after epoch  2 : 0.9026059805452142\n",
      "Time spent here 218.74949526786804\n"
     ]
    }
   ],
   "source": [
    "from sklearn.metrics import f1_score\n",
    "from sklearn.metrics import fbeta_score\n",
    "from scipy import stats\n",
    "\n",
    "\n",
    "start = time.time()\n",
    "\n",
    "final_model = build_model()\n",
    "\n",
    "\"\"\"we chose only 2 epochs as the accuracies will decline \n",
    "after 2 epochs and also less computationaly intensive\"\"\"\n",
    "for i in range(2):\n",
    "    train_X, train_y, test_X = read_data()\n",
    "    for chunk_X, chunk_y in zip(train_X, train_y):\n",
    "        final_model.train_on_batch(sc.transform(chunk_X), chunk_y, class_weight={0: 1.,1: 100.})\n",
    "    \n",
    "    \"\"\"This print only is to monitor \n",
    "    the accuracies while training each epoch.\n",
    "    \"\"\"\n",
    "    y_val_pred = final_model.predict(sc.transform(X_val))\n",
    "    print('F1 after epoch ', i+1, ':', f1_score(np.round(y_val_pred), y_val))\n",
    "\n",
    "stop = time.time()\n",
    "print('Time spent here', stop-start)"
   ]
  },
  {
   "cell_type": "markdown",
   "metadata": {},
   "source": [
    "This final model achieves 0.90454 on kaggle, this means that the f1 scores here is more represenative to the public f1score in kaggle.\n"
   ]
  },
  {
   "cell_type": "markdown",
   "metadata": {},
   "source": [
    "## Prediction and Submissions\n",
    "\n",
    "Dealing with the test data as chuncks also and append the predictions of the chunks to the csv"
   ]
  },
  {
   "cell_type": "code",
   "execution_count": 136,
   "metadata": {},
   "outputs": [],
   "source": [
    "import os\n",
    "!rm submission.csv\n",
    "\n",
    "size = 0\n",
    "\n",
    "for batch in test_X:\n",
    "    preds = final_model.predict_on_batch(sc.transform(batch))\n",
    "    preds = np.round(preds).reshape(batch.shape[0],).astype(bool)\n",
    "    submission = pd.DataFrame({'Predicted': preds})\n",
    "    submission.index = submission.index + size\n",
    "    submission.index.name = 'Id'\n",
    "    if not os.path.isfile('submission.csv'):\n",
    "        submission.to_csv('submission.csv', header=['Predicted'])\n",
    "    else:\n",
    "        submission.to_csv('submission.csv', mode='a', header=False)\n",
    "    size += batch.shape[0]"
   ]
  },
  {
   "cell_type": "code",
   "execution_count": 137,
   "metadata": {},
   "outputs": [
    {
     "name": "stdout",
     "output_type": "stream",
     "text": [
      "5008458 53042\n"
     ]
    }
   ],
   "source": [
    "#predictions class balance\n",
    "sub = pd.read_csv('submission.csv')\n",
    "count_0, count_1 = sub['Predicted'].value_counts()\n",
    "print(count_0, count_1)"
   ]
  },
  {
   "cell_type": "markdown",
   "metadata": {},
   "source": [
    "## Refereneces\n",
    "\n",
    "- Oliver Tomic and Kristin Liland, Applied Machine Learing DAT300, 2020"
   ]
  }
 ],
 "metadata": {
  "kernelspec": {
   "display_name": "Python 3",
   "language": "python",
   "name": "python3"
  },
  "language_info": {
   "codemirror_mode": {
    "name": "ipython",
    "version": 3
   },
   "file_extension": ".py",
   "mimetype": "text/x-python",
   "name": "python",
   "nbconvert_exporter": "python",
   "pygments_lexer": "ipython3",
   "version": "3.7.4"
  }
 },
 "nbformat": 4,
 "nbformat_minor": 4
}
